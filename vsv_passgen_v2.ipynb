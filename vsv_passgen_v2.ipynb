{
 "cells": [
  {
   "cell_type": "code",
   "execution_count": 36,
   "metadata": {},
   "outputs": [
    {
     "name": "stdout",
     "output_type": "stream",
     "text": [
      "--- Strong Random Password Generator ---\n",
      "NOTE : Minimal password length is 8, maximal is 30\n"
     ]
    }
   ],
   "source": [
    "# Strong Password Generator, created 06/05/22 by Vladan Dakic, Shakeeb Sadiq, Vitor Amaral. Requires desired password length from user to generate a strong password.\n",
    "\n",
    "import string, random, re, numpy as np\n",
    "\n",
    "print(\"--- Strong Random Password Generator ---\\nNOTE : Minimal password length is 8, maximal is 30\")\n",
    "'''Print the API name and input requirements'''\n",
    "\n",
    "# String containing special characters\n",
    "\n",
    "special_chars = \"!@#$%^&*()\"\n",
    "\n",
    "# String containing all the uppercase and lowercase letters, all the digits and the special characters\n",
    "\n",
    "characters = list(string.ascii_letters + string.digits + special_chars)"
   ]
  },
  {
   "cell_type": "code",
   "execution_count": 37,
   "metadata": {},
   "outputs": [],
   "source": [
    "def password_validation(p_list):\n",
    "    '''Takes a password in the form of a list, prints it as a string if its valid. Forces password to have at least one of uppercase,lowercase,digit,special characters,\n",
    "    if not, calls itself recursively using p_list's length. Reshuffles the result before printing for extra safety'''\n",
    "\n",
    "    if re.search(\"[A-Z]\", \"\".join(p_list)) is None or re.search(\"[a-z]\", \"\".join(p_list)) is None or \\\n",
    "       re.search(\"[0-9]\", \"\".join(p_list)) is None or len(np.intersect1d(p_list,list(special_chars))) == 0:\n",
    "        generate_password(len(p_list))\n",
    "    else:\n",
    "        random.shuffle(p_list)\n",
    "        print(f'Your new password is \"{\"\".join(p_list)}\"')"
   ]
  },
  {
   "cell_type": "code",
   "execution_count": 38,
   "metadata": {},
   "outputs": [],
   "source": [
    "def generate_password(p_length):\n",
    "    '''Takes an integer as argument then generates a new list filled with random characters from the characters list whose length is the input.  \n",
    "    Calls the password_validation() function to validate the generated password'''\n",
    "\n",
    "    random.shuffle(characters)\n",
    "    password=[random.choice(characters) for i in range(p_length)]\n",
    "    password_validation(password)"
   ]
  },
  {
   "cell_type": "code",
   "execution_count": 35,
   "metadata": {},
   "outputs": [
    {
     "name": "stdout",
     "output_type": "stream",
     "text": [
      "Wrong password length!\n",
      "Wrong password length!\n",
      "Wrong password length!\n",
      "Your new password is \"N$J^4wWPA^aYXJHlSHWJIYqbuddV6G\"\n"
     ]
    }
   ],
   "source": [
    "def passlength():\n",
    "    '''Requests password length and limits its size, calls itself recursively if it isn't a valid length'''\n",
    "\n",
    "    length=int(input(\"Enter password length: \"))\n",
    "    if length>=8 and length<=30:\n",
    "        generate_password(length)\n",
    "    else:\n",
    "        print(\"Wrong password length!\")\n",
    "        passlength()\n",
    "        \n",
    "#Ask for user input for the required password size. Entry point of the program.\n",
    "passlength()"
   ]
  }
 ],
 "metadata": {
  "interpreter": {
   "hash": "5c538744287a88b5732cdd5fb5d0628c8e4d0c1143ec79b3e943241dea7d83dd"
  },
  "kernelspec": {
   "display_name": "Python 3.9.12 ('vitorwork')",
   "language": "python",
   "name": "python3"
  },
  "language_info": {
   "codemirror_mode": {
    "name": "ipython",
    "version": 3
   },
   "file_extension": ".py",
   "mimetype": "text/x-python",
   "name": "python",
   "nbconvert_exporter": "python",
   "pygments_lexer": "ipython3",
   "version": "3.9.12"
  },
  "orig_nbformat": 4
 },
 "nbformat": 4,
 "nbformat_minor": 2
}
